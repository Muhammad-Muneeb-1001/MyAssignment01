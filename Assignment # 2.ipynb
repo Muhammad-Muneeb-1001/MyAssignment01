{
 "cells": [
  {
   "cell_type": "code",
   "execution_count": 5,
   "metadata": {},
   "outputs": [
    {
     "name": "stdout",
     "output_type": "stream",
     "text": [
      "Marks In English:90\n",
      "Marks In Mathematics:93\n",
      "Marks In Physics:87\n",
      "Marks In Chemistry:74\n",
      "Marks In Computer Science/Biology:63\n",
      "Your Marks In Percentage Is 81.4 %\n",
      "You have passed with A Grade!\n"
     ]
    }
   ],
   "source": [
    "a=int(input(\"Marks In English:\"))\n",
    "b=int(input(\"Marks In Mathematics:\"))\n",
    "c=int(input(\"Marks In Physics:\"))\n",
    "d=int(input(\"Marks In Chemistry:\"))\n",
    "e=int(input(\"Marks In Computer Science/Biology:\"))\n",
    " \n",
    "f=(a+b+c+d+e)*100/500\n",
    "print(\"Your Marks In Percentage Is\",f,\"%\")\n",
    " \n",
    "if f >= 90:\n",
    "\tprint('You have passed with A+ Grade!')\n",
    "elif f>= 80:\n",
    "    print('You have passed with A Grade!')\n",
    "elif f>= 70:\n",
    "    print('You have passed with B Grade!')\n",
    "elif f>= 60:\n",
    "    print('You have passed with C Grade!')\n",
    "else:\n",
    "\tprint('You have failed!')"
   ]
  },
  {
   "cell_type": "code",
   "execution_count": 6,
   "metadata": {},
   "outputs": [
    {
     "name": "stdout",
     "output_type": "stream",
     "text": [
      "Enter a number: 8\n",
      "This is an even number.\n"
     ]
    }
   ],
   "source": [
    "num = int(input(\"Enter a number: \"))\n",
    "mod = num % 2\n",
    "if mod > 0:\n",
    "    print(\"This is an odd number.\")\n",
    "else:\n",
    "    print(\"This is an even number.\")"
   ]
  },
  {
   "cell_type": "code",
   "execution_count": 22,
   "metadata": {},
   "outputs": [
    {
     "name": "stdout",
     "output_type": "stream",
     "text": [
      "100\n"
     ]
    }
   ],
   "source": [
    "n = [10, 20, 30,40]\n",
    "a = sum(n)\n",
    "print(a) \n"
   ]
  },
  {
   "cell_type": "code",
   "execution_count": 30,
   "metadata": {},
   "outputs": [
    {
     "name": "stdout",
     "output_type": "stream",
     "text": [
      "Maximum number in the list is: 90\n"
     ]
    }
   ],
   "source": [
    "n = [10, 20, 90,40]\n",
    "\n",
    "print(\"Maximum number in the list is:\", max(n)) \n"
   ]
  },
  {
   "cell_type": "code",
   "execution_count": 38,
   "metadata": {},
   "outputs": [
    {
     "name": "stdout",
     "output_type": "stream",
     "text": [
      "False\n",
      "[1, 1, 2, 3, 5, 8, 11, 13, 21, 34, 55, 87]\n"
     ]
    }
   ],
   "source": [
    "a = [1, 1, 2, 3, 5, 8, 11, 13, 21, 34, 55, 87]\n",
    "print(all( x <=5 for x in a))\n",
    "print(a)"
   ]
  },
  {
   "cell_type": "code",
   "execution_count": 44,
   "metadata": {},
   "outputs": [
    {
     "name": "stdout",
     "output_type": "stream",
     "text": [
      "1\n",
      "1\n",
      "2\n",
      "3\n",
      "5\n"
     ]
    }
   ],
   "source": [
    "a = [1, 1, 2, 3, 5, 8, 11, 13, 21, 34, 55, 87]#start, end = -4, 19\n",
    "  \n",
    "# iterating each number in list \n",
    "for num in a: \n",
    "      \n",
    "    # checking condition \n",
    "    if num <= 5: \n",
    "        print(num)"
   ]
  },
  {
   "cell_type": "code",
   "execution_count": null,
   "metadata": {},
   "outputs": [],
   "source": []
  }
 ],
 "metadata": {
  "kernelspec": {
   "display_name": "Python 3",
   "language": "python",
   "name": "python3"
  },
  "language_info": {
   "codemirror_mode": {
    "name": "ipython",
    "version": 3
   },
   "file_extension": ".py",
   "mimetype": "text/x-python",
   "name": "python",
   "nbconvert_exporter": "python",
   "pygments_lexer": "ipython3",
   "version": "3.7.3"
  }
 },
 "nbformat": 4,
 "nbformat_minor": 2
}
